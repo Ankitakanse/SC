{
 "cells": [
  {
   "cell_type": "markdown",
   "id": "dd63975d",
   "metadata": {},
   "source": [
    "# Write a program to implement delta rule"
   ]
  },
  {
   "cell_type": "code",
   "execution_count": 1,
   "id": "1d36ae13",
   "metadata": {},
   "outputs": [],
   "source": [
    "import numpy as np"
   ]
  },
  {
   "cell_type": "code",
   "execution_count": 2,
   "id": "2bbcb75e",
   "metadata": {},
   "outputs": [],
   "source": [
    "x=np.zeros((3,)) # size 3"
   ]
  },
  {
   "cell_type": "code",
   "execution_count": 3,
   "id": "fb0ece02",
   "metadata": {},
   "outputs": [],
   "source": [
    "weights=np.zeros((3,))"
   ]
  },
  {
   "cell_type": "code",
   "execution_count": 4,
   "id": "0fc734e9",
   "metadata": {},
   "outputs": [],
   "source": [
    "desired=np.zeros((3,))"
   ]
  },
  {
   "cell_type": "code",
   "execution_count": 5,
   "id": "947db333",
   "metadata": {},
   "outputs": [],
   "source": [
    "actual=np.zeros((3,))"
   ]
  },
  {
   "cell_type": "code",
   "execution_count": 6,
   "id": "69f7cee8",
   "metadata": {},
   "outputs": [
    {
     "name": "stdout",
     "output_type": "stream",
     "text": [
      "Initial Inputs : 1\n",
      "Initial Inputs : 1\n",
      "Initial Inputs : 1\n"
     ]
    }
   ],
   "source": [
    "for i in range(0,3):\n",
    "    x[i]=float(input('Initial Inputs : '))"
   ]
  },
  {
   "cell_type": "code",
   "execution_count": 7,
   "id": "a2f9e15f",
   "metadata": {},
   "outputs": [
    {
     "name": "stdout",
     "output_type": "stream",
     "text": [
      "Initial Weights : 1\n",
      "Initial Weights : 1\n",
      "Initial Weights : 1\n"
     ]
    }
   ],
   "source": [
    "for i in range(0,3):\n",
    "    weights[i]=float(input('Initial Weights : '))"
   ]
  },
  {
   "cell_type": "code",
   "execution_count": 8,
   "id": "3015085b",
   "metadata": {},
   "outputs": [
    {
     "name": "stdout",
     "output_type": "stream",
     "text": [
      "Desired output : 2\n",
      "Desired output : 3\n",
      "Desired output : 4\n"
     ]
    }
   ],
   "source": [
    "for i in range(0,3):\n",
    "    desired[i]=float(input('Desired output : '))"
   ]
  },
  {
   "cell_type": "code",
   "execution_count": 9,
   "id": "c0bc0026",
   "metadata": {},
   "outputs": [
    {
     "name": "stdout",
     "output_type": "stream",
     "text": [
      "Enter Learning Rate : 1\n"
     ]
    }
   ],
   "source": [
    "a=float(input('Enter Learning Rate : '))"
   ]
  },
  {
   "cell_type": "code",
   "execution_count": 10,
   "id": "46f2dae3",
   "metadata": {},
   "outputs": [
    {
     "data": {
      "text/plain": [
       "array([1., 1., 1.])"
      ]
     },
     "execution_count": 10,
     "metadata": {},
     "output_type": "execute_result"
    }
   ],
   "source": [
    "x"
   ]
  },
  {
   "cell_type": "code",
   "execution_count": 11,
   "id": "6eb23936",
   "metadata": {},
   "outputs": [
    {
     "data": {
      "text/plain": [
       "array([1., 1., 1.])"
      ]
     },
     "execution_count": 11,
     "metadata": {},
     "output_type": "execute_result"
    }
   ],
   "source": [
    "weights"
   ]
  },
  {
   "cell_type": "code",
   "execution_count": 12,
   "id": "45bbc214",
   "metadata": {},
   "outputs": [
    {
     "data": {
      "text/plain": [
       "array([2., 3., 4.])"
      ]
     },
     "execution_count": 12,
     "metadata": {},
     "output_type": "execute_result"
    }
   ],
   "source": [
    "desired"
   ]
  },
  {
   "cell_type": "code",
   "execution_count": 13,
   "id": "018d94ca",
   "metadata": {},
   "outputs": [
    {
     "data": {
      "text/plain": [
       "1.0"
      ]
     },
     "execution_count": 13,
     "metadata": {},
     "output_type": "execute_result"
    }
   ],
   "source": [
    "a"
   ]
  },
  {
   "cell_type": "code",
   "execution_count": null,
   "id": "33c5ec3f",
   "metadata": {},
   "outputs": [],
   "source": [
    "actual"
   ]
  },
  {
   "cell_type": "code",
   "execution_count": 14,
   "id": "d1b60cad",
   "metadata": {},
   "outputs": [],
   "source": [
    "actual=x*weights"
   ]
  },
  {
   "cell_type": "code",
   "execution_count": 15,
   "id": "9a584ff7",
   "metadata": {},
   "outputs": [
    {
     "name": "stdout",
     "output_type": "stream",
     "text": [
      "Actual output  [1. 1. 1.]\n",
      "Desired output  [2. 3. 4.]\n"
     ]
    }
   ],
   "source": [
    "print('Actual output ' , actual)\n",
    "print('Desired output ' , desired)"
   ]
  },
  {
   "cell_type": "code",
   "execution_count": 16,
   "id": "bec13dfa",
   "metadata": {},
   "outputs": [],
   "source": [
    "while True:\n",
    "    if np.array_equal(desired,actual):\n",
    "        break\n",
    "    else:\n",
    "        for i in range(0,3):\n",
    "            weights[i] = weights[i]+a*(desired[i]-actual[i]) # weight updation\n",
    "            actual=x*weights"
   ]
  },
  {
   "cell_type": "code",
   "execution_count": 17,
   "id": "93b09fc1",
   "metadata": {},
   "outputs": [
    {
     "name": "stdout",
     "output_type": "stream",
     "text": [
      "Final Output\n",
      "Corrected Weights  [2. 3. 4.]\n",
      "Actual output  [2. 3. 4.]\n",
      "Desired output  [2. 3. 4.]\n"
     ]
    }
   ],
   "source": [
    "print('Final Output')\n",
    "print('Corrected Weights ' , weights)\n",
    "print('Actual output ' , actual)\n",
    "print('Desired output ' , desired)"
   ]
  },
  {
   "cell_type": "code",
   "execution_count": null,
   "id": "aa211746",
   "metadata": {},
   "outputs": [],
   "source": []
  }
 ],
 "metadata": {
  "kernelspec": {
   "display_name": "Python 3 (ipykernel)",
   "language": "python",
   "name": "python3"
  },
  "language_info": {
   "codemirror_mode": {
    "name": "ipython",
    "version": 3
   },
   "file_extension": ".py",
   "mimetype": "text/x-python",
   "name": "python",
   "nbconvert_exporter": "python",
   "pygments_lexer": "ipython3",
   "version": "3.9.12"
  }
 },
 "nbformat": 4,
 "nbformat_minor": 5
}
