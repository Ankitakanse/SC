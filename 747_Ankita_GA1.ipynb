{
 "cells": [
  {
   "cell_type": "markdown",
   "id": "f69dee10",
   "metadata": {},
   "source": [
    "# Implementation of GA to find Optimum weights for the neural network"
   ]
  },
  {
   "cell_type": "code",
   "execution_count": 1,
   "id": "a7f162fc",
   "metadata": {},
   "outputs": [
    {
     "name": "stdout",
     "output_type": "stream",
     "text": [
      "Requirement already satisfied: pygad in c:\\users\\hp\\anaconda3\\lib\\site-packages (2.19.2)\n",
      "Requirement already satisfied: cloudpickle in c:\\users\\hp\\anaconda3\\lib\\site-packages (from pygad) (2.0.0)\n",
      "Requirement already satisfied: matplotlib in c:\\users\\hp\\anaconda3\\lib\\site-packages (from pygad) (3.5.1)\n",
      "Requirement already satisfied: numpy in c:\\users\\hp\\anaconda3\\lib\\site-packages (from pygad) (1.21.5)\n",
      "Requirement already satisfied: pillow>=6.2.0 in c:\\users\\hp\\anaconda3\\lib\\site-packages (from matplotlib->pygad) (9.0.1)\n",
      "Requirement already satisfied: kiwisolver>=1.0.1 in c:\\users\\hp\\anaconda3\\lib\\site-packages (from matplotlib->pygad) (1.3.2)\n",
      "Requirement already satisfied: python-dateutil>=2.7 in c:\\users\\hp\\anaconda3\\lib\\site-packages (from matplotlib->pygad) (2.8.2)\n",
      "Requirement already satisfied: packaging>=20.0 in c:\\users\\hp\\anaconda3\\lib\\site-packages (from matplotlib->pygad) (21.3)\n",
      "Requirement already satisfied: cycler>=0.10 in c:\\users\\hp\\anaconda3\\lib\\site-packages (from matplotlib->pygad) (0.11.0)\n",
      "Requirement already satisfied: pyparsing>=2.2.1 in c:\\users\\hp\\anaconda3\\lib\\site-packages (from matplotlib->pygad) (3.0.4)\n",
      "Requirement already satisfied: fonttools>=4.22.0 in c:\\users\\hp\\anaconda3\\lib\\site-packages (from matplotlib->pygad) (4.25.0)\n",
      "Requirement already satisfied: six>=1.5 in c:\\users\\hp\\anaconda3\\lib\\site-packages (from python-dateutil>=2.7->matplotlib->pygad) (1.16.0)\n"
     ]
    }
   ],
   "source": [
    "!pip install pygad"
   ]
  },
  {
   "cell_type": "code",
   "execution_count": 2,
   "id": "c0ba82c6",
   "metadata": {},
   "outputs": [],
   "source": [
    "import numpy as np\n",
    "import pygad"
   ]
  },
  {
   "cell_type": "code",
   "execution_count": 3,
   "id": "ad21fc2e",
   "metadata": {},
   "outputs": [],
   "source": [
    "x=[4,-2,3.5,5,-11,-4.7]\n",
    "desired_output=44"
   ]
  },
  {
   "cell_type": "code",
   "execution_count": 4,
   "id": "c18ea25f",
   "metadata": {},
   "outputs": [],
   "source": [
    "def fitness_func(solution, solution_idx):\n",
    "    output = numpy.sum(solution*x)\n",
    "    fitness = 1.0 / numpy.abs(output - desired_output) #abs=absolute value(mod)\n",
    "    return fitness"
   ]
  },
  {
   "cell_type": "code",
   "execution_count": 5,
   "id": "e1f51dd2",
   "metadata": {},
   "outputs": [],
   "source": [
    "fitness_function = fitness_func\n",
    "num_generations = 50\n",
    "num_parents_mating = 4\n",
    "sol_per_pop = 8              #SOLUTION PER POPULATION\n",
    "num_genes = len(x)\n",
    "init_range_low = -2 # we are defining range for weight not for x so it can be anything accoring to yoyr problem\n",
    "init_range_high = 5\n",
    "parent_selection_type = 'sss'\n",
    "keep_parents = 1\n",
    "crossover_type = 'single_point'\n",
    "mutation_type='random'"
   ]
  },
  {
   "cell_type": "code",
   "execution_count": 6,
   "id": "860b8e2d",
   "metadata": {},
   "outputs": [
    {
     "name": "stderr",
     "output_type": "stream",
     "text": [
      "C:\\Users\\hp\\anaconda3\\lib\\site-packages\\pygad\\pygad.py:522: UserWarning: The percentage of genes to mutate (mutation_percent_genes=10) resutled in selecting (0) genes. The number of genes to mutate is set to 1 (mutation_num_genes=1).\n",
      "If you do not want to mutate any gene, please set mutation_type=None.\n",
      "  if not self.suppress_warnings: warnings.warn(\"The percentage of genes to mutate (mutation_percent_genes={mutation_percent}) resutled in selecting ({mutation_num}) genes. The number of genes to mutate is set to 1 (mutation_num_genes=1).\\nIf you do not want to mutate any gene, please set mutation_type=None.\".format(mutation_percent=mutation_percent_genes, mutation_num=mutation_num_genes))\n"
     ]
    }
   ],
   "source": [
    "ga_instance=pygad.GA(fitness_func = fitness_function,\n",
    "                     num_generations = num_generations,\n",
    "                     num_parents_mating = num_parents_mating,\n",
    "                     sol_per_pop = sol_per_pop,            #SOLUTION PER POPULATION\n",
    "                     num_genes = num_genes,\n",
    "                     init_range_low = init_range_low,\n",
    "                     init_range_high = init_range_high,\n",
    "                     parent_selection_type = parent_selection_type,\n",
    "                     keep_parents = keep_parents,\n",
    "                     crossover_type = crossover_type,\n",
    "                     mutation_type=mutation_type,\n",
    "                     mutation_percent_genes=10)"
   ]
  },
  {
   "cell_type": "code",
   "execution_count": 7,
   "id": "79e1f150",
   "metadata": {},
   "outputs": [],
   "source": [
    "import numpy"
   ]
  },
  {
   "cell_type": "code",
   "execution_count": 8,
   "id": "671ff48e",
   "metadata": {},
   "outputs": [],
   "source": [
    "ga_instance.run()"
   ]
  },
  {
   "cell_type": "code",
   "execution_count": 9,
   "id": "1fe0d78c",
   "metadata": {},
   "outputs": [],
   "source": [
    "solution, solution_fitness, solution_idx = ga_instance.best_solution()\n"
   ]
  },
  {
   "cell_type": "code",
   "execution_count": 10,
   "id": "49fa263f",
   "metadata": {},
   "outputs": [
    {
     "name": "stdout",
     "output_type": "stream",
     "text": [
      "Solution is [ 3.96350179 -1.29484576  4.70859614  3.08324176 -0.17841593  1.7682037 ]\n",
      "Solution Fitness is 125.18494225109463\n",
      "Solution Index is 0\n"
     ]
    }
   ],
   "source": [
    "print('Solution is', solution)\n",
    "print('Solution Fitness is', solution_fitness)\n",
    "print('Solution Index is', solution_idx)"
   ]
  },
  {
   "cell_type": "code",
   "execution_count": null,
   "id": "4aa24964",
   "metadata": {},
   "outputs": [],
   "source": []
  }
 ],
 "metadata": {
  "kernelspec": {
   "display_name": "Python 3 (ipykernel)",
   "language": "python",
   "name": "python3"
  },
  "language_info": {
   "codemirror_mode": {
    "name": "ipython",
    "version": 3
   },
   "file_extension": ".py",
   "mimetype": "text/x-python",
   "name": "python",
   "nbconvert_exporter": "python",
   "pygments_lexer": "ipython3",
   "version": "3.9.12"
  }
 },
 "nbformat": 4,
 "nbformat_minor": 5
}
