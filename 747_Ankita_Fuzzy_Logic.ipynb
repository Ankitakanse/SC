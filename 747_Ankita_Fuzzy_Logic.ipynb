{
 "cells": [
  {
   "cell_type": "markdown",
   "id": "8273096a",
   "metadata": {},
   "source": [
    "# Fuzzy Logic"
   ]
  },
  {
   "cell_type": "markdown",
   "id": "3dcca6d4",
   "metadata": {},
   "source": [
    "***Aim :- Using the built-in python libraries for string matching for fuzzy logic.***"
   ]
  },
  {
   "cell_type": "code",
   "execution_count": 1,
   "id": "3ea90ff8",
   "metadata": {},
   "outputs": [],
   "source": [
    "#!pip install fuzzywuzzy # library used for fuzzy logic"
   ]
  },
  {
   "cell_type": "code",
   "execution_count": 2,
   "id": "aa4e86bb",
   "metadata": {},
   "outputs": [],
   "source": [
    "#!pip install python-levenshtein # it is for ratio"
   ]
  },
  {
   "cell_type": "code",
   "execution_count": 3,
   "id": "86acb18f",
   "metadata": {},
   "outputs": [],
   "source": [
    "from fuzzywuzzy import fuzz # API in fuzzywuzzy\n",
    "from fuzzywuzzy import process"
   ]
  },
  {
   "cell_type": "markdown",
   "id": "6a9360eb",
   "metadata": {},
   "source": [
    "# Ratio"
   ]
  },
  {
   "cell_type": "code",
   "execution_count": 4,
   "id": "956f2a9e",
   "metadata": {},
   "outputs": [],
   "source": [
    "strA=\"AnkitaKanse is a lifesaver\"\n",
    "strB=\"ankita kanse is a LIFE SAVER\""
   ]
  },
  {
   "cell_type": "code",
   "execution_count": 5,
   "id": "99f33393",
   "metadata": {},
   "outputs": [
    {
     "name": "stdout",
     "output_type": "stream",
     "text": [
      "96\n"
     ]
    }
   ],
   "source": [
    "ratio=fuzz.ratio(strA.lower(),strB.lower()) # ratio is case-sensitive\n",
    "print(ratio)"
   ]
  },
  {
   "cell_type": "code",
   "execution_count": 6,
   "id": "e1562d1a",
   "metadata": {},
   "outputs": [
    {
     "name": "stdout",
     "output_type": "stream",
     "text": [
      "56\n"
     ]
    }
   ],
   "source": [
    "ratio2=fuzz.ratio(strA,strB)\n",
    "print(ratio2)"
   ]
  },
  {
   "cell_type": "markdown",
   "id": "0e5568c0",
   "metadata": {},
   "source": [
    "# Partial Ratio"
   ]
  },
  {
   "cell_type": "code",
   "execution_count": 7,
   "id": "a3077c5e",
   "metadata": {},
   "outputs": [],
   "source": [
    "strA='Mumbai, Maharashtra'\n",
    "strB='Mumbai'\n",
    "pratio=fuzz.partial_ratio(strA,strB)"
   ]
  },
  {
   "cell_type": "code",
   "execution_count": 8,
   "id": "2e072b6c",
   "metadata": {},
   "outputs": [
    {
     "name": "stdout",
     "output_type": "stream",
     "text": [
      "100\n",
      "48\n"
     ]
    }
   ],
   "source": [
    "ratio3=fuzz.ratio(strA,strB)\n",
    "print(pratio)\n",
    "print(ratio3)"
   ]
  },
  {
   "cell_type": "code",
   "execution_count": 9,
   "id": "56a2b890",
   "metadata": {},
   "outputs": [
    {
     "name": "stdout",
     "output_type": "stream",
     "text": [
      "100\n",
      "52\n"
     ]
    }
   ],
   "source": [
    "strA='Neel Nitin Mukesh'\n",
    "strB='Mukesh'\n",
    "pratio=fuzz.partial_ratio(strA,strB)\n",
    "ratio3=fuzz.ratio(strA,strB)\n",
    "print(pratio)\n",
    "print(ratio3)"
   ]
  },
  {
   "cell_type": "code",
   "execution_count": 10,
   "id": "020cbd76",
   "metadata": {},
   "outputs": [
    {
     "name": "stdout",
     "output_type": "stream",
     "text": [
      "100\n",
      "71\n"
     ]
    }
   ],
   "source": [
    "strA='Lalu Prasad Yadav'\n",
    "strB='Prasad Lalu Yadav'\n",
    "tsratio=fuzz.token_sort_ratio(strA,strB)\n",
    "ratio4=fuzz.ratio(strA,strB)\n",
    "print(tsratio)\n",
    "print(ratio4)"
   ]
  },
  {
   "cell_type": "markdown",
   "id": "060b52fc",
   "metadata": {},
   "source": [
    "# Compare the following string using ratio, partial ratio & token sort ratio functions."
   ]
  },
  {
   "cell_type": "code",
   "execution_count": 11,
   "id": "3a4e2f27",
   "metadata": {},
   "outputs": [
    {
     "name": "stdout",
     "output_type": "stream",
     "text": [
      "87\n",
      "87\n"
     ]
    }
   ],
   "source": [
    "# 1\n",
    "str1=\"truth or dare\"\n",
    "str2=\"truth dare\"\n",
    "ratio8=fuzz.ratio(str1.lower(),str2.lower())\n",
    "print(ratio8)\n",
    "ratio9=fuzz.ratio(str1,str2)\n",
    "print(ratio9)"
   ]
  },
  {
   "cell_type": "code",
   "execution_count": 12,
   "id": "3e318b90",
   "metadata": {},
   "outputs": [
    {
     "name": "stdout",
     "output_type": "stream",
     "text": [
      "78\n",
      "70\n"
     ]
    }
   ],
   "source": [
    "str1=\"Truth Or Dare \"\n",
    "str2=\"Truthdare\"\n",
    "ratio8=fuzz.ratio(str1.lower(),str2.lower())\n",
    "print(ratio8)\n",
    "ratio9=fuzz.ratio(str1,str2)\n",
    "print(ratio9)"
   ]
  },
  {
   "cell_type": "code",
   "execution_count": 13,
   "id": "7dbe0df7",
   "metadata": {},
   "outputs": [
    {
     "name": "stdout",
     "output_type": "stream",
     "text": [
      "100\n",
      "96\n"
     ]
    }
   ],
   "source": [
    "# 2\n",
    "str3='truth or dare'\n",
    "str4='truth or dare!'\n",
    "pratio1=fuzz.partial_ratio(str3,str4)\n",
    "ratio7=fuzz.ratio(str3,str4)\n",
    "print(pratio1)\n",
    "print(ratio7)"
   ]
  },
  {
   "cell_type": "code",
   "execution_count": 14,
   "id": "cff3a455",
   "metadata": {},
   "outputs": [
    {
     "name": "stdout",
     "output_type": "stream",
     "text": [
      "70\n",
      "87\n"
     ]
    }
   ],
   "source": [
    "str4='truth or dare' \n",
    "str45='truth dare'\n",
    "pratio1=fuzz.partial_ratio(str4,str45)\n",
    "ratio7=fuzz.ratio(str4,str45)\n",
    "print(pratio1)\n",
    "print(ratio7)"
   ]
  },
  {
   "cell_type": "code",
   "execution_count": 15,
   "id": "ca42ecff",
   "metadata": {},
   "outputs": [
    {
     "name": "stdout",
     "output_type": "stream",
     "text": [
      "70\n",
      "78\n"
     ]
    }
   ],
   "source": [
    "str5='Raj Kapoor'\n",
    "str0='Ranbir Kapoor'\n",
    "pratio1=fuzz.partial_ratio(str5,str0)\n",
    "ratio7=fuzz.ratio(str5,str0)\n",
    "print(pratio1)\n",
    "print(ratio7)"
   ]
  },
  {
   "cell_type": "code",
   "execution_count": 16,
   "id": "abfbac71",
   "metadata": {},
   "outputs": [
    {
     "name": "stdout",
     "output_type": "stream",
     "text": [
      "100\n",
      "46\n"
     ]
    }
   ],
   "source": [
    "# 3\n",
    "strA='truth or dare'\n",
    "strB='dare or truth'\n",
    "tsratio=fuzz.token_sort_ratio(strA,strB)\n",
    "ratio4=fuzz.ratio(strA,strB)\n",
    "print(tsratio)\n",
    "print(ratio4)"
   ]
  },
  {
   "cell_type": "code",
   "execution_count": 17,
   "id": "1e7a140c",
   "metadata": {},
   "outputs": [
    {
     "name": "stdout",
     "output_type": "stream",
     "text": [
      "100\n",
      "54\n"
     ]
    }
   ],
   "source": [
    "strA='truth or dare'\n",
    "strB='or dare truth'\n",
    "tsratio=fuzz.token_sort_ratio(strA,strB)\n",
    "ratio4=fuzz.ratio(strA,strB)\n",
    "print(tsratio)\n",
    "print(ratio4)"
   ]
  },
  {
   "cell_type": "markdown",
   "id": "bb203089",
   "metadata": {},
   "source": [
    "# Token set ratio"
   ]
  },
  {
   "cell_type": "code",
   "execution_count": 18,
   "id": "5b07aeb4",
   "metadata": {},
   "outputs": [
    {
     "name": "stdout",
     "output_type": "stream",
     "text": [
      "90\n",
      "100\n"
     ]
    }
   ],
   "source": [
    "s1=\"truth or dare\"\n",
    "s2=\"truth or or dare\"\n",
    "ratiots=fuzz.token_sort_ratio(s1,s2)\n",
    "ratio4=fuzz.token_set_ratio(s1,s2)\n",
    "print(ratiots)\n",
    "print(ratio4)"
   ]
  },
  {
   "cell_type": "code",
   "execution_count": 19,
   "id": "93c408f8",
   "metadata": {},
   "outputs": [
    {
     "name": "stdout",
     "output_type": "stream",
     "text": [
      "77\n",
      "100\n"
     ]
    }
   ],
   "source": [
    "s1='Neil Nitin'\n",
    "s2='Neil Nitin Nitin'\n",
    "ratiots=fuzz.token_sort_ratio(s1,s2) # eiiiiilnnn\n",
    "ratio4=fuzz.token_set_ratio(s1,s2) # ignoring duplicates\n",
    "print(ratiots)\n",
    "print(ratio4)"
   ]
  },
  {
   "cell_type": "markdown",
   "id": "9574ef80",
   "metadata": {},
   "source": [
    "# WRatio"
   ]
  },
  {
   "cell_type": "code",
   "execution_count": 20,
   "id": "b7081ac4",
   "metadata": {},
   "outputs": [
    {
     "name": "stdout",
     "output_type": "stream",
     "text": [
      "77\n"
     ]
    }
   ],
   "source": [
    "str1=\"I Love Myself\"\n",
    "str2=\"I am loving myself\"\n",
    "wratio=fuzz.WRatio(str1,str2) \n",
    " \n",
    "print(wratio)\n"
   ]
  },
  {
   "cell_type": "code",
   "execution_count": 21,
   "id": "401812c3",
   "metadata": {},
   "outputs": [
    {
     "name": "stdout",
     "output_type": "stream",
     "text": [
      "100\n"
     ]
    }
   ],
   "source": [
    "str1=\"truth or dare\"\n",
    "str2=\"Truth Or Dare\"\n",
    "wratio=fuzz.WRatio(str1,str2) \n",
    " \n",
    "print(wratio)\n"
   ]
  },
  {
   "cell_type": "code",
   "execution_count": 22,
   "id": "763768a1",
   "metadata": {},
   "outputs": [
    {
     "name": "stdout",
     "output_type": "stream",
     "text": [
      "100\n"
     ]
    }
   ],
   "source": [
    "str1=\"truth or dare!!!\"\n",
    "str2=\"truth or dare\"\n",
    "wratio=fuzz.WRatio(str1,str2) \n",
    " \n",
    "print(wratio)\n"
   ]
  },
  {
   "cell_type": "code",
   "execution_count": 23,
   "id": "010f218b",
   "metadata": {},
   "outputs": [
    {
     "name": "stdout",
     "output_type": "stream",
     "text": [
      "96\n"
     ]
    }
   ],
   "source": [
    "str1=\"truth or dare!!!\"\n",
    "str2=\"truth or dares\"\n",
    "wratio=fuzz.WRatio(str1,str2) \n",
    " \n",
    "print(wratio)\n"
   ]
  },
  {
   "cell_type": "code",
   "execution_count": 24,
   "id": "637c5d82",
   "metadata": {},
   "outputs": [],
   "source": [
    "from fuzzywuzzy import process # Api in fuzzywuzzy"
   ]
  },
  {
   "cell_type": "code",
   "execution_count": 25,
   "id": "c04f9e72",
   "metadata": {},
   "outputs": [
    {
     "name": "stdout",
     "output_type": "stream",
     "text": [
      "List of ratios\n",
      "[('artifial intelligence', 100), ('Artifial Intelligence', 100), ('a Intelligence', 86), ('Arts Intelligence', 84)] \n",
      "\n",
      "Best among the above list: ('artifial intelligence', 100)\n"
     ]
    }
   ],
   "source": [
    "query=\"artifial intelligence\"\n",
    "choices=['artifial intelligence','Artifial Intelligence','Arts Intelligence','a Intelligence']\n",
    "print(\"List of ratios\")\n",
    "print(process.extract(query,choices),'\\n') # not case-sensitive\n",
    "print('Best among the above list:',process.extractOne(query,choices)) # best match using extract one"
   ]
  },
  {
   "cell_type": "code",
   "execution_count": null,
   "id": "35166c08",
   "metadata": {},
   "outputs": [],
   "source": []
  }
 ],
 "metadata": {
  "kernelspec": {
   "display_name": "Python 3 (ipykernel)",
   "language": "python",
   "name": "python3"
  },
  "language_info": {
   "codemirror_mode": {
    "name": "ipython",
    "version": 3
   },
   "file_extension": ".py",
   "mimetype": "text/x-python",
   "name": "python",
   "nbconvert_exporter": "python",
   "pygments_lexer": "ipython3",
   "version": "3.9.12"
  }
 },
 "nbformat": 4,
 "nbformat_minor": 5
}
