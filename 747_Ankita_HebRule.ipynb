{
 "cells": [
  {
   "cell_type": "code",
   "execution_count": 1,
   "id": "bc6d06ac",
   "metadata": {},
   "outputs": [],
   "source": [
    "import numpy as np"
   ]
  },
  {
   "cell_type": "code",
   "execution_count": 2,
   "id": "8caf3df2",
   "metadata": {},
   "outputs": [],
   "source": [
    "x1=np.array([1,1,1,-1,1,-1,1,1,1]) # i-pattern"
   ]
  },
  {
   "cell_type": "code",
   "execution_count": 3,
   "id": "27fa961e",
   "metadata": {},
   "outputs": [],
   "source": [
    "b=0 # bias"
   ]
  },
  {
   "cell_type": "code",
   "execution_count": 4,
   "id": "e4ff2e1b",
   "metadata": {},
   "outputs": [],
   "source": [
    "y=np.array([1,-1]) # Y=T target"
   ]
  },
  {
   "cell_type": "code",
   "execution_count": 5,
   "id": "4312f58c",
   "metadata": {},
   "outputs": [],
   "source": [
    "wtold=np.zeros((9,))\n",
    "wtnew=np.zeros((9,)) # initialize at 0"
   ]
  },
  {
   "cell_type": "code",
   "execution_count": 6,
   "id": "d616aca7",
   "metadata": {},
   "outputs": [],
   "source": [
    "wtold=wtnew.astype(int)\n",
    "wtnew=wtold.astype(int) # type int"
   ]
  },
  {
   "cell_type": "code",
   "execution_count": 7,
   "id": "f33bf92e",
   "metadata": {},
   "outputs": [
    {
     "data": {
      "text/plain": [
       "array([0, 0, 0, 0, 0, 0, 0, 0, 0])"
      ]
     },
     "execution_count": 7,
     "metadata": {},
     "output_type": "execute_result"
    }
   ],
   "source": [
    "wtnew"
   ]
  },
  {
   "cell_type": "code",
   "execution_count": 8,
   "id": "e01e692b",
   "metadata": {},
   "outputs": [
    {
     "data": {
      "text/plain": [
       "array([0, 0, 0, 0, 0, 0, 0, 0, 0])"
      ]
     },
     "execution_count": 8,
     "metadata": {},
     "output_type": "execute_result"
    }
   ],
   "source": [
    "wtold"
   ]
  },
  {
   "cell_type": "code",
   "execution_count": 9,
   "id": "95f26584",
   "metadata": {},
   "outputs": [
    {
     "name": "stdout",
     "output_type": "stream",
     "text": [
      "First input with target = 1\n"
     ]
    }
   ],
   "source": [
    "print(\"First input with target = 1\")\n",
    "for i in range(0,9):\n",
    "    wtold[i] = wtold[i]+x1[i]*y[0]\n",
    "wtnew=wtold\n",
    "b=b+y[0]"
   ]
  },
  {
   "cell_type": "code",
   "execution_count": 10,
   "id": "428c3b4d",
   "metadata": {},
   "outputs": [
    {
     "name": "stdout",
     "output_type": "stream",
     "text": [
      "New Weights [ 1  1  1 -1  1 -1  1  1  1]\n",
      "Bias value 1\n"
     ]
    }
   ],
   "source": [
    "print('New Weights',wtnew)\n",
    "print('Bias value',b)"
   ]
  },
  {
   "cell_type": "code",
   "execution_count": 11,
   "id": "d96c700f",
   "metadata": {},
   "outputs": [],
   "source": [
    "x2=np.array([1,1,1,1,-1,1,1,1,1])"
   ]
  },
  {
   "cell_type": "code",
   "execution_count": 12,
   "id": "163bdd56",
   "metadata": {},
   "outputs": [
    {
     "name": "stdout",
     "output_type": "stream",
     "text": [
      "First input with target = -1\n"
     ]
    }
   ],
   "source": [
    "print(\"First input with target = -1\")\n",
    "for i in range(0,9):\n",
    "    wtnew[i] = wtold[i]+x2[i]*y[1]\n",
    "b=b+y[1]"
   ]
  },
  {
   "cell_type": "code",
   "execution_count": 13,
   "id": "21838286",
   "metadata": {},
   "outputs": [
    {
     "name": "stdout",
     "output_type": "stream",
     "text": [
      "New Weights [ 0  0  0 -2  2 -2  0  0  0]\n",
      "Bias value 0\n"
     ]
    }
   ],
   "source": [
    "print('New Weights',wtnew)\n",
    "print('Bias value',b)"
   ]
  },
  {
   "cell_type": "code",
   "execution_count": null,
   "id": "e30df5fa",
   "metadata": {},
   "outputs": [],
   "source": []
  }
 ],
 "metadata": {
  "kernelspec": {
   "display_name": "Python 3 (ipykernel)",
   "language": "python",
   "name": "python3"
  },
  "language_info": {
   "codemirror_mode": {
    "name": "ipython",
    "version": 3
   },
   "file_extension": ".py",
   "mimetype": "text/x-python",
   "name": "python",
   "nbconvert_exporter": "python",
   "pygments_lexer": "ipython3",
   "version": "3.9.12"
  }
 },
 "nbformat": 4,
 "nbformat_minor": 5
}
